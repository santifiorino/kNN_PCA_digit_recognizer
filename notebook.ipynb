{
 "cells": [
  {
   "cell_type": "code",
   "execution_count": 1,
   "metadata": {},
   "outputs": [],
   "source": [
    "import numpy as np\n",
    "import pandas as pd\n",
    "import matplotlib.pyplot as plt\n",
    "import subprocess\n",
    "import seaborn as sns"
   ]
  },
  {
   "cell_type": "markdown",
   "metadata": {},
   "source": [
    "# K-Fold Cross Validation"
   ]
  },
  {
   "cell_type": "markdown",
   "metadata": {},
   "source": [
    "Crea los k folds (Por cada uno crea 3 csv's: Train, Test y Expected)"
   ]
  },
  {
   "cell_type": "code",
   "execution_count": 2,
   "metadata": {},
   "outputs": [],
   "source": [
    "def create_k_folds(train, k):\n",
    "    train = train.sample(frac=1)\n",
    "    folds = []\n",
    "    for i in range(k):\n",
    "        folds.append(train[i*len(train)//k : (i+1)*len(train)//k])\n",
    "    for i in range(k):\n",
    "        \n",
    "        expected = pd.DataFrame().assign(label=folds[i]['label'])\n",
    "        expected.to_csv('./k-fold/expected_' + str(i) + '.csv', index=False)\n",
    "\n",
    "        new_test = folds[i]\n",
    "        new_test.drop(['label'], axis=1).to_csv('./k-fold/test_' + str(i) + '.csv', index=False)\n",
    "\n",
    "        new_train = pd.concat(folds[:i] + folds[i+1:])\n",
    "        new_train.to_csv('./k-fold/train_' + str(i) + '.csv', index=False)"
   ]
  },
  {
   "cell_type": "markdown",
   "metadata": {},
   "source": [
    "Corre el algoritmo de PCA para cada uno de los folds, por cada fold crea un csv: Out"
   ]
  },
  {
   "cell_type": "code",
   "execution_count": 90,
   "metadata": {},
   "outputs": [],
   "source": [
    "def run_PCA(folds, alpha, k):\n",
    "    for i in range(folds):\n",
    "        subprocess.run(['./PCA', f'./k-fold/train_{i}.csv', f'./k-fold/test_{i}.csv', f'./k-fold/out_{i}.csv', str(alpha), str(k)], stdout=subprocess.PIPE, encoding='ascii')"
   ]
  },
  {
   "cell_type": "code",
   "execution_count": 4,
   "metadata": {},
   "outputs": [],
   "source": [
    "train = pd.read_csv('train.csv')\n",
    "test = pd.read_csv('test.csv')"
   ]
  },
  {
   "cell_type": "code",
   "execution_count": 87,
   "metadata": {},
   "outputs": [],
   "source": [
    "folds = 10\n",
    "create_k_folds(train, folds)"
   ]
  },
  {
   "cell_type": "markdown",
   "metadata": {},
   "source": [
    "### Pecision, Recall, Confusion Matrix"
   ]
  },
  {
   "cell_type": "code",
   "execution_count": 91,
   "metadata": {},
   "outputs": [],
   "source": [
    "alpha = 4\n",
    "k = 5\n",
    "run_PCA(folds, alpha, k)"
   ]
  },
  {
   "cell_type": "code",
   "execution_count": 105,
   "metadata": {},
   "outputs": [],
   "source": [
    "accuracy = []\n",
    "confusion = np.zeros((10, 10), dtype=int)\n",
    "false_neg = np.zeros(10, dtype=int)\n",
    "for i in range(folds):\n",
    "    out = pd.read_csv(f'./k-fold/out_{i}.csv')\n",
    "    expected = pd.read_csv(f'./k-fold/expected_{i}.csv')\n",
    "    for j in range(len(out)):\n",
    "        expected_label = int(expected.iloc[[j]]['label'])\n",
    "        predicted_label = int(out.iloc[[j]]['Label'])\n",
    "        confusion[expected_label][predicted_label] += 1\n",
    "        if expected_label != predicted_label:\n",
    "            false_neg[expected_label] += 1\n",
    "    accuracy.append(sum(out['Label'] == expected['label'])/len(out))"
   ]
  },
  {
   "cell_type": "code",
   "execution_count": 106,
   "metadata": {},
   "outputs": [
    {
     "name": "stdout",
     "output_type": "stream",
     "text": [
      "Accuracy: [0.6180952380952381, 0.62, 0.6252380952380953, 0.6242857142857143, 0.6114285714285714, 0.6228571428571429, 0.6226190476190476, 0.6183333333333333, 0.6311904761904762, 0.6164285714285714]\n",
      "Precision: [0.76771564 0.92125493 0.66581437 0.65649964 0.56153279 0.44092769\n",
      " 0.64034892 0.55233183 0.44597928 0.47194546]\n",
      "Recall: [0.82066796 0.94662681 0.62341393 0.62330499 0.56139489 0.42582345\n",
      " 0.69204738 0.58395819 0.44499139 0.42979943]\n"
     ]
    }
   ],
   "source": [
    "TP = np.diag(confusion)\n",
    "FP = np.sum(confusion, axis=0) - TP\n",
    "FN = np.sum(confusion, axis=1) - TP\n",
    "precision = TP / (TP+FP)\n",
    "recall = TP / (TP+FN)\n",
    "print(\"Accuracy:\", accuracy)\n",
    "print(\"Precision:\", precision)\n",
    "print(\"Recall:\", recall)"
   ]
  },
  {
   "cell_type": "code",
   "execution_count": 96,
   "metadata": {},
   "outputs": [
    {
     "data": {
      "image/png": "[encoded data removed]",
      "text/plain": [
       "<Figure size 432x288 with 1 Axes>"
      ]
     },
     "metadata": {
      "needs_background": "light"
     },
     "output_type": "display_data"
    }
   ],
   "source": [
    "plt.imshow(confusion, cmap='gray')\n",
    "plt.xticks(np.arange(0,10))\n",
    "plt.yticks(np.arange(0,10));"
   ]
  },
  {
   "cell_type": "markdown",
   "metadata": {},
   "source": [
    "# PCA metrics"
   ]
  },
  {
   "cell_type": "code",
   "execution_count": 31,
   "metadata": {},
   "outputs": [],
   "source": [
    "def get_kaggle_accuracy(sub, correct_answers):\n",
    "    count = 0\n",
    "    for i in range(len(sub)):\n",
    "        if int(sub.iloc[[i]]['Label']) == int(correct_answers.iloc[[i]]['Label']):\n",
    "            count += 1\n",
    "    return count / len(sub)"
   ]
  },
  {
   "cell_type": "code",
   "execution_count": 61,
   "metadata": {},
   "outputs": [],
   "source": [
    "kaggle = pd.read_csv('kaggle.csv')\n",
    "\n",
    "alphas = [1, 2, 3, 4, 5, 6, 7, 8, 9, 10, 11, 12, 13, 14, 15, 20, 25, 30, 35, 40, 45, 50]\n",
    "ks = [1, 3, 5, 10, 25, 50]\n",
    "\n",
    "data = pd.DataFrame([], columns=['alpha', 'k', 'accuracy', 'time'])\n",
    "for alpha in alphas:\n",
    "    for k in ks:\n",
    "        time = subprocess.run(['./PCA', 'train.csv', 'test.csv', 'out.csv', str(alpha), str(k)], stdout=subprocess.PIPE, encoding='ascii').stdout.split('\\n')[0]\n",
    "        score = get_kaggle_accuracy(pd.read_csv('out.csv'), kaggle)\n",
    "        data = data.append({'alpha': alpha, 'k': k, 'accuracy': score, 'time': float(time)}, ignore_index = True)\n"
   ]
  },
  {
   "cell_type": "code",
   "execution_count": 86,
   "metadata": {},
   "outputs": [
    {
     "data": {
      "text/html": [
       "<div>\n",
       "<style scoped>\n",
       "    .dataframe tbody tr th:only-of-type {\n",
       "        vertical-align: middle;\n",
       "    }\n",
       "\n",
       "    .dataframe tbody tr th {\n",
       "        vertical-align: top;\n",
       "    }\n",
       "\n",
       "    .dataframe thead th {\n",
       "        text-align: right;\n",
       "    }\n",
       "</style>\n",
       "<table border=\"1\" class=\"dataframe\">\n",
       "  <thead>\n",
       "    <tr style=\"text-align: right;\">\n",
       "      <th></th>\n",
       "      <th>alpha</th>\n",
       "      <th>k</th>\n",
       "      <th>accuracy</th>\n",
       "      <th>time</th>\n",
       "    </tr>\n",
       "  </thead>\n",
       "  <tbody>\n",
       "    <tr>\n",
       "      <th>0</th>\n",
       "      <td>1</td>\n",
       "      <td>1</td>\n",
       "      <td>0.249107</td>\n",
       "      <td>69.0182</td>\n",
       "    </tr>\n",
       "    <tr>\n",
       "      <th>1</th>\n",
       "      <td>1</td>\n",
       "      <td>3</td>\n",
       "      <td>0.254429</td>\n",
       "      <td>69.9108</td>\n",
       "    </tr>\n",
       "    <tr>\n",
       "      <th>2</th>\n",
       "      <td>1</td>\n",
       "      <td>5</td>\n",
       "      <td>0.258929</td>\n",
       "      <td>69.9623</td>\n",
       "    </tr>\n",
       "    <tr>\n",
       "      <th>3</th>\n",
       "      <td>1</td>\n",
       "      <td>10</td>\n",
       "      <td>0.263821</td>\n",
       "      <td>70.8536</td>\n",
       "    </tr>\n",
       "    <tr>\n",
       "      <th>4</th>\n",
       "      <td>1</td>\n",
       "      <td>25</td>\n",
       "      <td>0.268250</td>\n",
       "      <td>70.9766</td>\n",
       "    </tr>\n",
       "  </tbody>\n",
       "</table>\n",
       "</div>"
      ],
      "text/plain": [
       "   alpha   k  accuracy     time\n",
       "0      1   1  0.249107  69.0182\n",
       "1      1   3  0.254429  69.9108\n",
       "2      1   5  0.258929  69.9623\n",
       "3      1  10  0.263821  70.8536\n",
       "4      1  25  0.268250  70.9766"
      ]
     },
     "execution_count": 86,
     "metadata": {},
     "output_type": "execute_result"
    }
   ],
   "source": [
    "data.head()"
   ]
  },
  {
   "cell_type": "code",
   "execution_count": 68,
   "metadata": {},
   "outputs": [
    {
     "data": {
      "text/plain": [
       "<seaborn.axisgrid.FacetGrid at 0x7f37cf5245e0>"
      ]
     },
     "execution_count": 68,
     "metadata": {},
     "output_type": "execute_result"
    },
    {
     "data": {
      "image/png": "[encoded data removed]",
      "text/plain": [
       "<Figure size 598.25x360 with 1 Axes>"
      ]
     },
     "metadata": {
      "needs_background": "light"
     },
     "output_type": "display_data"
    }
   ],
   "source": [
    "sns.relplot(data=data, x=\"alpha\", y=\"accuracy\", hue=\"k\", aspect=1.5)"
   ]
  },
  {
   "cell_type": "code",
   "execution_count": 95,
   "metadata": {},
   "outputs": [
    {
     "data": {
      "text/plain": [
       "<seaborn.axisgrid.FacetGrid at 0x7f37c7fb56d0>"
      ]
     },
     "execution_count": 95,
     "metadata": {},
     "output_type": "execute_result"
    },
    {
     "data": {
      "image/png": "[encoded data removed]",
      "text/plain": [
       "<Figure size 588.75x360 with 1 Axes>"
      ]
     },
     "metadata": {
      "needs_background": "light"
     },
     "output_type": "display_data"
    }
   ],
   "source": [
    "p = sns.relplot(data=data, x=\"alpha\", y=\"time\", hue=\"k\", kind=\"line\", aspect=1.5)\n",
    "p.set(xlabel='alpha', ylabel='time [seg]')"
   ]
  },
  {
   "cell_type": "code",
   "execution_count": 71,
   "metadata": {},
   "outputs": [
    {
     "data": {
      "text/html": [
       "<div>\n",
       "<style scoped>\n",
       "    .dataframe tbody tr th:only-of-type {\n",
       "        vertical-align: middle;\n",
       "    }\n",
       "\n",
       "    .dataframe tbody tr th {\n",
       "        vertical-align: top;\n",
       "    }\n",
       "\n",
       "    .dataframe thead th {\n",
       "        text-align: right;\n",
       "    }\n",
       "</style>\n",
       "<table border=\"1\" class=\"dataframe\">\n",
       "  <thead>\n",
       "    <tr style=\"text-align: right;\">\n",
       "      <th></th>\n",
       "      <th>alpha</th>\n",
       "      <th>k</th>\n",
       "      <th>accuracy</th>\n",
       "      <th>time</th>\n",
       "    </tr>\n",
       "  </thead>\n",
       "  <tbody>\n",
       "    <tr>\n",
       "      <th>127</th>\n",
       "      <td>50.0</td>\n",
       "      <td>3.0</td>\n",
       "      <td>0.975786</td>\n",
       "      <td>152.585</td>\n",
       "    </tr>\n",
       "  </tbody>\n",
       "</table>\n",
       "</div>"
      ],
      "text/plain": [
       "     alpha    k  accuracy     time\n",
       "127   50.0  3.0  0.975786  152.585"
      ]
     },
     "execution_count": 71,
     "metadata": {},
     "output_type": "execute_result"
    }
   ],
   "source": [
    "# El mejor es:\n",
    "column = data[\"accuracy\"]\n",
    "max_index = column.idxmax()\n",
    "data.iloc[[max_index]]"
   ]
  }
 ],
 "metadata": {
  "interpreter": {
   "hash": "bbbd5a492172088568084a3547f7112c61e9ce8eb4aaf95b518c0095fc44b271"
  },
  "kernelspec": {
   "display_name": "Python 3.9.5 ('base')",
   "language": "python",
   "name": "python3"
  },
  "language_info": {
   "codemirror_mode": {
    "name": "ipython",
    "version": 3
   },
   "file_extension": ".py",
   "mimetype": "text/x-python",
   "name": "python",
   "nbconvert_exporter": "python",
   "pygments_lexer": "ipython3",
   "version": "3.9.5"
  },
  "orig_nbformat": 4
 },
 "nbformat": 4,
 "nbformat_minor": 2
}
